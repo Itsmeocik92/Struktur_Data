{
  "nbformat": 4,
  "nbformat_minor": 0,
  "metadata": {
    "colab": {
      "provenance": []
    },
    "kernelspec": {
      "name": "python3",
      "display_name": "Python 3"
    },
    "language_info": {
      "name": "python"
    }
  },
  "cells": [
    {
      "cell_type": "markdown",
      "source": [
        "Python program for implementation of Bubble Sort"
      ],
      "metadata": {
        "id": "h-hJJkgTW39Z"
      }
    },
    {
      "cell_type": "code",
      "execution_count": null,
      "metadata": {
        "id": "b6Dk1s0hUHSq"
      },
      "outputs": [],
      "source": [
        "def bubbleSort(arr):\n",
        "   n = len(arr)\n",
        "   swapped = False\n",
        "\n",
        "   for i in range(n-1):\n",
        "    for j in range(0, n-i-1):\n",
        "      if arr[j] > arr[j + 1]:\n",
        "       swapped = True\n",
        "       arr[j], arr[j + 1] = arr[j + 1], arr[j]\n",
        "\n"
      ]
    },
    {
      "cell_type": "code",
      "source": [
        "# Driver code to test above\n",
        "arr = [64, 34, 25, 12, 22, 11, 90]\n",
        "bubbleSort(arr)\n",
        "print(\"Sorted array is:\")\n",
        "for i in range(len(arr)):\n",
        " print(\"% d\" % arr[i], end=\" \")"
      ],
      "metadata": {
        "colab": {
          "base_uri": "https://localhost:8080/"
        },
        "id": "Z4qeA9pZWDAL",
        "outputId": "d3dac956-9bc0-4820-e2c3-58920618cdb3"
      },
      "execution_count": null,
      "outputs": [
        {
          "output_type": "stream",
          "name": "stdout",
          "text": [
            "Sorted array is:\n",
            " 11  12  22  25  34  64  90 "
          ]
        }
      ]
    },
    {
      "cell_type": "code",
      "source": [
        "# Python program for implementation of \\\n",
        "# Selection Sort\n",
        "import sys\n",
        "A = [64, 25, 12, 22, 11]\n",
        "for i in range(len(A)):\n",
        " min_idx = i\n",
        " for j in range(i+1, len(A)):\n",
        "   if A[min_idx] > A[j]:\n",
        "     min_idx = j\n",
        "\n",
        " A[i], A[min_idx] = A[min_idx], A[i]\n",
        "print (\"Sorted array\")\n",
        "for i in range(len(A)):\n",
        " print(\"%d\" %A[i],end=\" \")"
      ],
      "metadata": {
        "colab": {
          "base_uri": "https://localhost:8080/"
        },
        "id": "C6oeXpGPVdWa",
        "outputId": "eff019f4-ca08-4669-dfa0-9da11c00a5e0"
      },
      "execution_count": null,
      "outputs": [
        {
          "output_type": "stream",
          "name": "stdout",
          "text": [
            "Sorted array\n",
            "11 12 22 25 64 "
          ]
        }
      ]
    },
    {
      "cell_type": "code",
      "source": [
        "# Python program for implementation of # Insertion Sort\n",
        "# Function to do insertion sort\n",
        "\n",
        "def insertionSort(arr):\n",
        "\n",
        "  for i in range(1, len(arr)):\n",
        "    key = arr[i]\n",
        "    j = i-1\n",
        "  while j >= 0 and key < arr[j] :\n",
        "    arr[j + 1] = arr[j]\n",
        "    j -= 1\n",
        "  arr[j + 1] = key"
      ],
      "metadata": {
        "id": "EIdTwwsGWJ7A"
      },
      "execution_count": null,
      "outputs": []
    },
    {
      "cell_type": "code",
      "source": [
        "# Driver code to test above\n",
        "arr = [12, 11, 13, 5, 6]\n",
        "insertionSort(arr)\n",
        "for i in range(len(arr)):\n",
        " print (\"% d\" % arr[i])"
      ],
      "metadata": {
        "colab": {
          "base_uri": "https://localhost:8080/"
        },
        "id": "axcvvnkBWS34",
        "outputId": "a79df03a-6e1b-4e7f-e35d-1c6514d11925"
      },
      "execution_count": null,
      "outputs": [
        {
          "output_type": "stream",
          "name": "stdout",
          "text": [
            " 12\n",
            " 11\n",
            " 13\n",
            " 5\n",
            " 6\n"
          ]
        }
      ]
    },
    {
      "cell_type": "markdown",
      "source": [
        "  LATIHAN"
      ],
      "metadata": {
        "id": "chNBqD44bD6o"
      }
    },
    {
      "cell_type": "markdown",
      "source": [
        "BUBLE SORT"
      ],
      "metadata": {
        "id": "nRFToAvOcZRe"
      }
    },
    {
      "cell_type": "code",
      "source": [
        "# Optimized Python program for implementation of Bubble Sort\n",
        "\n",
        "\n",
        "def bubbleSort(arr):\n",
        "\tn = len(arr)\n",
        "\n",
        "\t# Traverse through all array elements\n",
        "\tfor i in range(n):\n",
        "\t\tswapped = False\n",
        "\n",
        "\t\t# Last i elements are already in place\n",
        "\t\tfor j in range(0, n-i-1):\n",
        "\n",
        "\t\t\t# Traverse the array from 0 to n-i-1\n",
        "\t\t\t# Swap if the element found is greater\n",
        "\t\t\t# than the next element\n",
        "\t\t\tif arr[j] > arr[j+1]:\n",
        "\t\t\t\tarr[j], arr[j+1] = arr[j+1], arr[j]\n",
        "\t\t\t\tswapped = True\n",
        "\t\tif (swapped == False):\n",
        "\t\t\tbreak\n",
        "\n",
        "\n",
        "# Driver code to test above\n",
        "if __name__ == \"__main__\":\n",
        "\tarr = [64, 34, 25, 12, 22, 11, 80]\n",
        "\n",
        "\tbubbleSort(arr)\n",
        "\n",
        "\tprint(\"Sorted array:\")\n",
        "\tfor i in range(len(arr)):\n",
        "\t\tprint(\"%d\" % arr[i], end=\" \")\n",
        "\n",
        "# This code is modified by Suraj krushna Yadav\n"
      ],
      "metadata": {
        "colab": {
          "base_uri": "https://localhost:8080/"
        },
        "id": "gaAlt3V_alO2",
        "outputId": "3b715e0c-46c3-48d7-9e69-414f08392b40"
      },
      "execution_count": null,
      "outputs": [
        {
          "output_type": "stream",
          "name": "stdout",
          "text": [
            "Sorted array:\n",
            "11 12 22 25 34 64 80 "
          ]
        }
      ]
    },
    {
      "cell_type": "markdown",
      "source": [
        "SELECTION SORT"
      ],
      "metadata": {
        "id": "GjM1krVIbnJu"
      }
    },
    {
      "cell_type": "code",
      "source": [
        "# Python program for implementation of Selection\n",
        "# Sort\n",
        "import sys\n",
        "A = [64, 25, 12, 22, 11]\n",
        "\n",
        "# Traverse through all array elements\n",
        "for i in range(len(A)):\n",
        "\n",
        "\t# Find the minimum element in remaining\n",
        "\t# unsorted array\n",
        "\tmin_idx = i\n",
        "\tfor j in range(i+1, len(A)):\n",
        "\t\tif A[min_idx] > A[j]:\n",
        "\t\t\tmin_idx = j\n",
        "\n",
        "\t# Swap the found minimum element with\n",
        "\t# the first element\n",
        "\tA[i], A[min_idx] = A[min_idx], A[i]\n",
        "\n",
        "# Driver code to test above\n",
        "print (\"Sorted array\")\n",
        "for i in range(len(A)):\n",
        "\tprint(\"%d\" %A[i],end=\" , \")\n"
      ],
      "metadata": {
        "colab": {
          "base_uri": "https://localhost:8080/"
        },
        "id": "ET5ImOEgbLjw",
        "outputId": "0d725475-c142-417e-861e-16bae771577a"
      },
      "execution_count": null,
      "outputs": [
        {
          "output_type": "stream",
          "name": "stdout",
          "text": [
            "Sorted array\n",
            "11 , 12 , 22 , 25 , 64 , "
          ]
        }
      ]
    },
    {
      "cell_type": "markdown",
      "source": [
        "INSERTION SORT\n",
        "\n"
      ],
      "metadata": {
        "id": "P2fExCxGbvnl"
      }
    },
    {
      "cell_type": "code",
      "source": [
        "# Python program for implementation of Insertion Sort\n",
        "\n",
        "# Function to do insertion sort\n",
        "def insertionSort(arr):\n",
        "\n",
        "\t# Traverse through 1 to len(arr)\n",
        "\tfor i in range(1, len(arr)):\n",
        "\n",
        "\t\tkey = arr[i]\n",
        "\n",
        "\t\t# Move elements of arr[0..i-1], that are\n",
        "\t\t# greater than key, to one position ahead\n",
        "\t\t# of their current position\n",
        "\t\tj = i-1\n",
        "\t\twhile j >= 0 and key < arr[j] :\n",
        "\t\t\t\tarr[j + 1] = arr[j]\n",
        "\t\t\t\tj -= 1\n",
        "\t\tarr[j + 1] = key\n",
        "\n",
        "\n",
        "# Driver code to test above\n",
        "arr = [12, 11, 13, 5, 6]\n",
        "insertionSort(arr)\n",
        "for i in range(len(arr)):\n",
        "\tprint (\"% d\" % arr[i])\n",
        "\n",
        "# This code is contributed by Mohit Kumra\n"
      ],
      "metadata": {
        "colab": {
          "base_uri": "https://localhost:8080/"
        },
        "id": "aZGoxW6hcJN4",
        "outputId": "02ab7269-36b5-468b-b0a7-3b7fceeaf669"
      },
      "execution_count": null,
      "outputs": [
        {
          "output_type": "stream",
          "name": "stdout",
          "text": [
            " 5\n",
            " 6\n",
            " 11\n",
            " 12\n",
            " 13\n"
          ]
        }
      ]
    }
  ]
}