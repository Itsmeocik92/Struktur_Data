{
  "nbformat": 4,
  "nbformat_minor": 0,
  "metadata": {
    "colab": {
      "provenance": []
    },
    "kernelspec": {
      "name": "python3",
      "display_name": "Python 3"
    },
    "language_info": {
      "name": "python"
    }
  },
  "cells": [
    {
      "cell_type": "markdown",
      "source": [
        "Muhammad Aziz Inochi Syamadanny G.231.22.0092"
      ],
      "metadata": {
        "id": "yy5ikrHCTY2u"
      }
    },
    {
      "cell_type": "code",
      "source": [
        "def konvert(x):\n",
        "    s = ''.join(x)\n",
        "    return s\n",
        "\n",
        "x = ['p', 'r', 'o', 'g', 'r', 'a', 'm', 'm', 'i', 'n', 'g']\n",
        "\n",
        "print(konvert(x))\n"
      ],
      "metadata": {
        "colab": {
          "base_uri": "https://localhost:8080/"
        },
        "id": "apRY45QzSbNA",
        "outputId": "78902900-606a-465a-b4da-93df4dc764d0"
      },
      "execution_count": 2,
      "outputs": [
        {
          "output_type": "stream",
          "name": "stdout",
          "text": [
            "programming\n"
          ]
        }
      ]
    }
  ]
}